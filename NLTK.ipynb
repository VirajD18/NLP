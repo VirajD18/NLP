{
 "cells": [
  {
   "cell_type": "code",
   "execution_count": 1,
   "id": "f86b1ee4",
   "metadata": {},
   "outputs": [
    {
     "name": "stderr",
     "output_type": "stream",
     "text": [
      "[nltk_data] Downloading package wordnet to\n",
      "[nltk_data]     C:\\Users\\viraj\\AppData\\Roaming\\nltk_data...\n",
      "[nltk_data]   Package wordnet is already up-to-date!\n"
     ]
    },
    {
     "data": {
      "text/plain": [
       "True"
      ]
     },
     "execution_count": 1,
     "metadata": {},
     "output_type": "execute_result"
    }
   ],
   "source": [
    "import nltk\n",
    "from nltk.tokenize import*\n",
    "from nltk.stem import*\n",
    "nltk.download('wordnet')"
   ]
  },
  {
   "cell_type": "code",
   "execution_count": 2,
   "id": "64f81cde",
   "metadata": {},
   "outputs": [],
   "source": [
    "text = \"Hope, is the only thing stronger than fear! #Hope #Viraj.D \""
   ]
  },
  {
   "cell_type": "code",
   "execution_count": 3,
   "id": "4f3b61a4",
   "metadata": {},
   "outputs": [
    {
     "data": {
      "text/plain": [
       "['Hope',\n",
       " ',',\n",
       " 'is',\n",
       " 'the',\n",
       " 'only',\n",
       " 'thing',\n",
       " 'stronger',\n",
       " 'than',\n",
       " 'fear',\n",
       " '!',\n",
       " '#',\n",
       " 'Hope',\n",
       " '#',\n",
       " 'Viraj.D']"
      ]
     },
     "execution_count": 3,
     "metadata": {},
     "output_type": "execute_result"
    }
   ],
   "source": [
    "word_tokenize(text) #word tokenization"
   ]
  },
  {
   "cell_type": "code",
   "execution_count": 4,
   "id": "2b8eda65",
   "metadata": {},
   "outputs": [
    {
     "data": {
      "text/plain": [
       "['Hope, is the only thing stronger than fear!', '#Hope #Viraj.D']"
      ]
     },
     "execution_count": 4,
     "metadata": {},
     "output_type": "execute_result"
    }
   ],
   "source": [
    "sent_tokenize(text) #sentence tokenization"
   ]
  },
  {
   "cell_type": "code",
   "execution_count": 5,
   "id": "edcbb5ac",
   "metadata": {},
   "outputs": [
    {
     "data": {
      "text/plain": [
       "['Hope,',\n",
       " 'is',\n",
       " 'the',\n",
       " 'only',\n",
       " 'thing',\n",
       " 'stronger',\n",
       " 'than',\n",
       " 'fear!',\n",
       " '#Hope',\n",
       " '#Viraj.D']"
      ]
     },
     "execution_count": 5,
     "metadata": {},
     "output_type": "execute_result"
    }
   ],
   "source": [
    "text.split() #white space"
   ]
  },
  {
   "cell_type": "code",
   "execution_count": 6,
   "id": "b857029f",
   "metadata": {},
   "outputs": [
    {
     "data": {
      "text/plain": [
       "['Hope',\n",
       " ',',\n",
       " 'is',\n",
       " 'the',\n",
       " 'only',\n",
       " 'thing',\n",
       " 'stronger',\n",
       " 'than',\n",
       " 'fear',\n",
       " '!',\n",
       " '#',\n",
       " 'Hope',\n",
       " '#',\n",
       " 'Viraj',\n",
       " '.',\n",
       " 'D']"
      ]
     },
     "execution_count": 6,
     "metadata": {},
     "output_type": "execute_result"
    }
   ],
   "source": [
    "wordpunct_tokenize(text) #Punctuation-based tokenizer"
   ]
  },
  {
   "cell_type": "code",
   "execution_count": 7,
   "id": "eaffe136",
   "metadata": {},
   "outputs": [
    {
     "data": {
      "text/plain": [
       "['Do', \"n't\", 'do', 'anything😁🤣']"
      ]
     },
     "execution_count": 7,
     "metadata": {},
     "output_type": "execute_result"
    }
   ],
   "source": [
    "text = \"Don't do anything😁🤣\"\n",
    "tk = TreebankWordTokenizer() #Treebank Word tokenizer\n",
    "tk.tokenize(text)"
   ]
  },
  {
   "cell_type": "code",
   "execution_count": 8,
   "id": "6b8fed6d",
   "metadata": {},
   "outputs": [
    {
     "data": {
      "text/plain": [
       "['We', 'can', 'split', 'emojis', 'into', 'different', 'words', '😁', '🤣']"
      ]
     },
     "execution_count": 8,
     "metadata": {},
     "output_type": "execute_result"
    }
   ],
   "source": [
    "text = \"We can split emojis into different words 😁🤣 \"\n",
    "tk = TweetTokenizer()  #Tweet tokenizer\n",
    "tk.tokenize(text)"
   ]
  },
  {
   "cell_type": "code",
   "execution_count": 9,
   "id": "84700cd1",
   "metadata": {},
   "outputs": [
    {
     "data": {
      "text/plain": [
       "['Hope',\n",
       " ',',\n",
       " 'is',\n",
       " 'the',\n",
       " 'only',\n",
       " 'thing',\n",
       " 'stronger',\n",
       " 'than',\n",
       " 'fear',\n",
       " '!',\n",
       " 'Viraj_Deshmukh']"
      ]
     },
     "execution_count": 9,
     "metadata": {},
     "output_type": "execute_result"
    }
   ],
   "source": [
    "text = \"Hope, is the only thing stronger than fear! Viraj Deshmukh\"\n",
    "tk = MWETokenizer()  #MWET tokenizer\n",
    "tk.add_mwe(('Viraj','Deshmukh'))\n",
    "tk.tokenize(word_tokenize(text))"
   ]
  },
  {
   "cell_type": "code",
   "execution_count": 10,
   "id": "17f3de30",
   "metadata": {},
   "outputs": [
    {
     "name": "stdout",
     "output_type": "stream",
     "text": [
      "cared  :  care\n",
      "university  :  univers\n",
      "fairly  :  fairli\n",
      "easily  :  easili\n",
      "singing  :  sing\n",
      "sings  :  sing\n",
      "sung  :  sung\n",
      "singer  :  singer\n",
      "sportingly  :  sportingli\n"
     ]
    }
   ],
   "source": [
    "words = ['cared','university','fairly','easily','singing',\n",
    "       'sings','sung','singer','sportingly']\n",
    "ps = PorterStemmer() #porter stemmer\n",
    "for w in words:\n",
    "    print(w,\" : \",ps.stem(w))"
   ]
  },
  {
   "cell_type": "code",
   "execution_count": 11,
   "id": "bba28241",
   "metadata": {},
   "outputs": [
    {
     "name": "stdout",
     "output_type": "stream",
     "text": [
      "cared  :  care\n",
      "university  :  univers\n",
      "fairly  :  fair\n",
      "easily  :  easili\n",
      "singing  :  sing\n",
      "sings  :  sing\n",
      "sung  :  sung\n",
      "singer  :  singer\n",
      "sportingly  :  sport\n"
     ]
    }
   ],
   "source": [
    "ss = SnowballStemmer(language='english')  #snowball stemmer\n",
    "for w in words:\n",
    "    print(w,\" : \",ss.stem(w))"
   ]
  },
  {
   "cell_type": "code",
   "execution_count": 12,
   "id": "7fe74853",
   "metadata": {},
   "outputs": [
    {
     "name": "stdout",
     "output_type": "stream",
     "text": [
      "rocks  :  rock\n",
      "corpora  :  corpus\n"
     ]
    }
   ],
   "source": [
    "lem = WordNetLemmatizer()   #Lemmatization \n",
    "words = ['rocks','corpora']\n",
    "for w in words:\n",
    "    print(w,\" : \",lem.lemmatize(w))"
   ]
  },
  {
   "cell_type": "code",
   "execution_count": 13,
   "id": "d3c7b9cb",
   "metadata": {},
   "outputs": [
    {
     "name": "stdout",
     "output_type": "stream",
     "text": [
      "better :  good\n"
     ]
    }
   ],
   "source": [
    "print(\"better : \",lem.lemmatize(\"better\",pos='a'))"
   ]
  },
  {
   "cell_type": "code",
   "execution_count": null,
   "id": "ab5b3fe5",
   "metadata": {},
   "outputs": [],
   "source": []
  }
 ],
 "metadata": {
  "kernelspec": {
   "display_name": "Python 3 (ipykernel)",
   "language": "python",
   "name": "python3"
  },
  "language_info": {
   "codemirror_mode": {
    "name": "ipython",
    "version": 3
   },
   "file_extension": ".py",
   "mimetype": "text/x-python",
   "name": "python",
   "nbconvert_exporter": "python",
   "pygments_lexer": "ipython3",
   "version": "3.9.7"
  }
 },
 "nbformat": 4,
 "nbformat_minor": 5
}
